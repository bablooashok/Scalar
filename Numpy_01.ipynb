{
  "nbformat": 4,
  "nbformat_minor": 0,
  "metadata": {
    "colab": {
      "provenance": [],
      "authorship_tag": "ABX9TyMoMOGP3rMBnWPr3YD6rU/H",
      "include_colab_link": true
    },
    "kernelspec": {
      "name": "python3",
      "display_name": "Python 3"
    },
    "language_info": {
      "name": "python"
    }
  },
  "cells": [
    {
      "cell_type": "markdown",
      "metadata": {
        "id": "view-in-github",
        "colab_type": "text"
      },
      "source": [
        "<a href=\"https://colab.research.google.com/github/bablooashok/Scalar/blob/main/Numpy_01.ipynb\" target=\"_parent\"><img src=\"https://colab.research.google.com/assets/colab-badge.svg\" alt=\"Open In Colab\"/></a>"
      ]
    },
    {
      "cell_type": "markdown",
      "source": [
        "# Net Promoter Score(NPS) Case Study\n",
        "\n",
        "NPS = percentage of promoters - percentage of detraters\n",
        "\n",
        "ratings: 1 2 3 4 5 6 7 8 9 10\n",
        "\n",
        "The voters b/n 1 to 4 have bad experience with the product so they are detraters.\n",
        "\n",
        "The voters b/n 4 to 7 have netural experience with the product so thay are passive.\n",
        "\n",
        "The voters b/n 8 to 10 have good experience with the product so they are promoters.\n",
        "\n",
        "If NPS is avove 70 then the company is doing great\n",
        "\n",
        "The range of NPS is  -100 to 100"
      ],
      "metadata": {
        "id": "sWsl8IXSV_8H"
      }
    },
    {
      "cell_type": "markdown",
      "source": [
        "Num stands for Numerical\n",
        "Py stands for Python"
      ],
      "metadata": {
        "id": "kN_tu991cuE3"
      }
    },
    {
      "cell_type": "code",
      "execution_count": 3,
      "metadata": {
        "id": "y6kEYOdeVd7s"
      },
      "outputs": [],
      "source": [
        "import numpy as np"
      ]
    },
    {
      "cell_type": "code",
      "source": [
        "# List a\n",
        "a = [1,2,3,4,5]"
      ],
      "metadata": {
        "id": "K7Dobby9e-VF"
      },
      "execution_count": 5,
      "outputs": []
    },
    {
      "cell_type": "code",
      "source": [
        "# Converting list a to a numpy array\n",
        "a = np.array(a)\n",
        "a"
      ],
      "metadata": {
        "colab": {
          "base_uri": "https://localhost:8080/"
        },
        "id": "6oN-9KT1fAXq",
        "outputId": "b56a99fb-8f09-4abb-f4f0-3554c6524d4a"
      },
      "execution_count": 7,
      "outputs": [
        {
          "output_type": "execute_result",
          "data": {
            "text/plain": [
              "array([1, 2, 3, 4, 5])"
            ]
          },
          "metadata": {},
          "execution_count": 7
        }
      ]
    },
    {
      "cell_type": "code",
      "source": [],
      "metadata": {
        "id": "X-n5oe_YfL1m"
      },
      "execution_count": null,
      "outputs": []
    }
  ]
}